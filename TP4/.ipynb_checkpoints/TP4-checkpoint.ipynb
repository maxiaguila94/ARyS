{
 "cells": [
  {
   "cell_type": "markdown",
   "metadata": {},
   "source": [
    "# Administración de Redes y Seguridad"
   ]
  },
  {
   "cell_type": "markdown",
   "metadata": {},
   "source": [
    "## Trabajo Practico 4 - SSH y túneles"
   ]
  },
  {
   "cell_type": "markdown",
   "metadata": {},
   "source": [
    "### Ejercicios"
   ]
  },
  {
   "cell_type": "markdown",
   "metadata": {},
   "source": [
    "#### 1. Describa para qué sirve el comando ssh-keygen. Genere unpar de claves con y sin contraseña."
   ]
  },
  {
   "cell_type": "markdown",
   "metadata": {},
   "source": [
    "El comando **ssh-keygen** sirve para generar, administrar y convertir claves para ssh.\n",
    "\n",
    "Las claves generadas por ssh-keygen pueden  corresponderse al protocolo SSH versión 1 o versión 2. \n",
    "Sin embargo, el protocolo versión 1 no está recomendado dado que cuenta con vulnerabilidades criptográficas.\n",
    "\n",
    "**Ssh-keygen** también es usado para generar grupos para uso de intercambios Diffie-Hellman.\n",
    "\n",
    "Además, este comando puede ser utilizado para generar y actualizar Listas de Revocación de Claves y para probar si una clave ha sido revocada.\n",
    "\n",
    "    man ssh-keygen\n",
    "   \n",
    "![](images/man-ssh-keygen.png)\n"
   ]
  },
  {
   "cell_type": "markdown",
   "metadata": {},
   "source": [
    "Creando una clave **con contraseña**.\n",
    "\n",
    "![](images/ssh-keygen-key1.png)"
   ]
  },
  {
   "cell_type": "markdown",
   "metadata": {},
   "source": [
    "Creando una clave **sin contraseña**\n",
    "\n",
    "![](images/ssh-keygen-key2.png)"
   ]
  },
  {
   "cell_type": "markdown",
   "metadata": {},
   "source": [
    "#### 2. Qué función cumplen los archivos \n",
    "    \n",
    "    HOME/.ssh/authorized_keys \n",
    "    \n",
    "    HOME/.ssh/known_hosts"
   ]
  },
  {
   "cell_type": "markdown",
   "metadata": {},
   "source": [
    "**HOME/.ssh/authorized_keys**: Contiene una lista de las claves públicas autorizadas para un servidor. Cuando un cliente se conecta al servidor, este último verifica las claves autorizadas en este archivo.\n",
    "\n",
    "**HOME/.ssh/known_hosts**: La primera vez que realizas la conexión debes aceptar la firma del otro host. De esta manera se establece una relación de confianza que se traduce en archivar la clave pública de este servidor en el fichero *$HOME/.ssh/known_hosts*. Contiene los hosts accedidos por el cliente y es utilizado para verificar que el mismo no se esté conectando a un servidor incorrecto.\n",
    "\n",
    "\n"
   ]
  },
  {
   "cell_type": "markdown",
   "metadata": {},
   "source": [
    "#### 3. Utilice el comando ssh-copyid para copiar la clave que generó con contraseña en un servidor remoto. \n",
    "#### Luego agregue la linea a /etc/ssh/sshd_config: *PasswordAuthentication no* \n",
    "#### Verifique que la autenticación no utiliza passwords agregando el argu- mento -vvv a la invocación de SSH."
   ]
  },
  {
   "cell_type": "markdown",
   "metadata": {},
   "source": [
    "Una vez verificado que la maquina virtual permita conexion por **ssh** (que normalmente por defecto no lo tiene abilitado) se corrio el comando:\n",
    "    \n",
    "    ssh-copy-id -i ~/.ssh/id_rsa.pub root@192.168.1.113\n",
    "    \n",
    "#### Clave generada\n",
    "![](images/ssh1.png)\n",
    "\n",
    "#### Ejecucion de ssh-copy-id\n",
    "![](images/ssh2.png)\n",
    "\n",
    "#### Claves registradas del \"servidor\"\n",
    "![](images/ssh3.png)\n",
    "\n",
    "#### Conexion ssh\n",
    "![](images/ssh4.png)\n",
    "\n",
    "#### Comando -vvv\n",
    "\n",
    "    ssh -vvv root@192.168.1.113  \n",
    "    \n",
    "![](images/ssh5.png)\n",
    "\n",
    "![](images/ssh6.png)\n",
    "\n"
   ]
  },
  {
   "cell_type": "markdown",
   "metadata": {},
   "source": [
    "#### 4. Ana es desarrolladora de aplicaciones web, y quiere probar algunos cambios con una base de datos de prueba que se encuentra en un servidor remoto. Ana no puede transferir la base de datos a su computadora, dado el excesivo tamaño de la misma. Sin embargo, Ana sabe que mediante la herramienta ssh puede hacer que su aplicación local utilice la base de datos remota.\n",
    "\n",
    "#### Describa que argumentos debe utilizar Ana para que su aplicación web pueda acceder a la base de datos remota. Simule la situación utilizando alguna base de datos que conozca (MySQL, Postgres), no es necesario que implemente la aplicación web.\n",
    "\n",
    "![](images/enunciado.png)\n"
   ]
  },
  {
   "cell_type": "markdown",
   "metadata": {},
   "source": [
    "Ana debería ejecutar el siguiente comando: (**tunel directo**)\n",
    "\n",
    "    ssh -L <puerto_local>:<ip_servidor>:5432 <usuario_servidor>@<ip_servidor>\n",
    "\n",
    "De esta forma se crea un túnel directo desde la pc de Ana (Particularmente usando el puerto que usará la aplicación web como “salida”) hacia el puerto de la base de datos del servidor.\n",
    "\n",
    "Para el caso del dibujo, en todo caso, el puerto destino debería ser 3306.\n"
   ]
  },
  {
   "cell_type": "markdown",
   "metadata": {},
   "source": [
    "#### 5. Matías tiene acceso a un servidor que escucha conexiones únicamente en el puerto 80, para las interfases de red físicas. Matías no puede alterar el firewall ya que no es administrador, sin embargo ha detectado que el servidor ejecuta un servicio SSH y no tiene restricciones para realizar conexiones salientes. Matías desea poder acceder al servidor SSH desde su computadora personal. Indique que con que argumentos debe invocar ssh desde el servidor (túnel reverso) para realizar la conexión desde su máquina personal."
   ]
  },
  {
   "cell_type": "markdown",
   "metadata": {},
   "source": [
    "￼Desde el servidor al cliente:\n",
    "    \n",
    "    ssh -R <puerto>:localhost:22 maxi@192.168.1.53\n",
    "\n",
    "Desde el cliente al servidor:\n",
    "    \n",
    "    ssh -p <puerto> servidor@localhost\n"
   ]
  },
  {
   "cell_type": "markdown",
   "metadata": {},
   "source": [
    "![](images/servidor-ssh.png)\n",
    "![](images/cliente-ssh.png)"
   ]
  },
  {
   "cell_type": "code",
   "execution_count": null,
   "metadata": {},
   "outputs": [],
   "source": []
  }
 ],
 "metadata": {
  "kernelspec": {
   "display_name": "Python 3",
   "language": "python",
   "name": "python3"
  },
  "language_info": {
   "codemirror_mode": {
    "name": "ipython",
    "version": 3
   },
   "file_extension": ".py",
   "mimetype": "text/x-python",
   "name": "python",
   "nbconvert_exporter": "python",
   "pygments_lexer": "ipython3",
   "version": "3.7.1"
  }
 },
 "nbformat": 4,
 "nbformat_minor": 2
}
