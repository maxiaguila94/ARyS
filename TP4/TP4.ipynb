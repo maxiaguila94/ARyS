{
 "cells": [
  {
   "cell_type": "markdown",
   "metadata": {},
   "source": [
    "# Administración de Redes y Seguridad"
   ]
  },
  {
   "cell_type": "markdown",
   "metadata": {},
   "source": [
    "## Trabajo Practico 4 - SSH y túneles"
   ]
  },
  {
   "cell_type": "markdown",
   "metadata": {},
   "source": [
    "### Ejercicios"
   ]
  },
  {
   "cell_type": "markdown",
   "metadata": {},
   "source": [
    "#### 1. Describa para qué sirve el comando ssh-keygen. Genere unpar de claves con y sin contraseña."
   ]
  },
  {
   "cell_type": "markdown",
   "metadata": {},
   "source": [
    "El comando **ssh-keygen** sirve para generar, administrar y convertir claves para ssh.\n",
    "\n",
    "Las claves generadas por ssh-keygen pueden  corresponderse al protocolo SSH versión 1 o versión 2. \n",
    "Sin embargo, el protocolo versión 1 no está recomendado dado que cuenta con vulnerabilidades criptográficas.\n",
    "\n",
    "**Ssh-keygen** también es usado para generar grupos para uso de intercambios Diffie-Hellman.\n",
    "\n",
    "Además, este comando puede ser utilizado para generar y actualizar Listas de Revocación de Claves y para probar si una clave ha sido revocada.\n",
    "\n",
    "    man ssh-keygen\n",
    "   \n",
    "![](images/man-ssh-keygen.png)\n"
   ]
  },
  {
   "cell_type": "markdown",
   "metadata": {},
   "source": [
    "Creando una clave **con contraseña**.\n",
    "\n",
    "![](images/ssh-keygen-key1.png)"
   ]
  },
  {
   "cell_type": "markdown",
   "metadata": {},
   "source": [
    "Creando una clave **sin contraseña**\n",
    "\n",
    "![](images/ssh-keygen-key2.png)"
   ]
  },
  {
   "cell_type": "markdown",
   "metadata": {},
   "source": [
    "#### 2. Qué función cumplen los archivos \n",
    "    \n",
    "    HOME/.ssh/authorized_keys \n",
    "    \n",
    "    HOME/.ssh/known_hosts"
   ]
  },
  {
   "cell_type": "markdown",
   "metadata": {},
   "source": [
    "**HOME/.ssh/authorized_keys**: Contiene una lista de las claves públicas autorizadas para un servidor. Cuando un cliente se conecta al servidor, este último verifica las claves autorizadas en este archivo.\n",
    "\n",
    "**HOME/.ssh/known_hosts**: La primera vez que realizas la conexión debes aceptar la firma del otro host. De esta manera se establece una relación de confianza que se traduce en archivar la clave pública de este servidor en el fichero *$HOME/.ssh/known_hosts*. Contiene los hosts accedidos por el cliente y es utilizado para verificar que el mismo no se esté conectando a un servidor incorrecto.\n",
    "\n",
    "\n"
   ]
  },
  {
   "cell_type": "markdown",
   "metadata": {},
   "source": [
    "#### 3. Utilice el comando ssh-copyid para copiar la clave que generó con contraseña en un servidor remoto. \n",
    "#### Luego agregue la linea a /etc/ssh/sshd_config: *PasswordAuthentication no* \n",
    "#### Verifique que la autenticación no utiliza passwords agregando el argu- mento -vvv a la invocación de SSH."
   ]
  },
  {
   "cell_type": "code",
   "execution_count": null,
   "metadata": {},
   "outputs": [],
   "source": []
  }
 ],
 "metadata": {
  "kernelspec": {
   "display_name": "Python 3",
   "language": "python",
   "name": "python3"
  },
  "language_info": {
   "codemirror_mode": {
    "name": "ipython",
    "version": 3
   },
   "file_extension": ".py",
   "mimetype": "text/x-python",
   "name": "python",
   "nbconvert_exporter": "python",
   "pygments_lexer": "ipython3",
   "version": "3.7.1"
  }
 },
 "nbformat": 4,
 "nbformat_minor": 2
}
